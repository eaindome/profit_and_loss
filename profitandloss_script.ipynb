{
 "cells": [
  {
   "cell_type": "code",
   "execution_count": null,
   "id": "f51953a1",
   "metadata": {},
   "outputs": [],
   "source": [
    "print(\"A program to analyse profit and loss\")\n",
    "name = input(\"Enter the name of the enterprise: \")\n",
    "selling_price = float(input(\"Enter the selling price: \"))\n",
    "cost_price = float(input(\"Enter the cost price: \"))\n",
    "\n",
    "if (selling_price > cost_price):\n",
    "    profit = selling_price - cost_price\n",
    "    profit_percent = (profit / cost_price) * 100\n",
    "    txt = \"You had a profit of {:.2f} at a profit percent of {:.2f}\"\n",
    "    print(txt.format(profit, profit_percent))\n",
    "else:\n",
    "    loss = cost_price - selling_price\n",
    "    loss_percent = (loss / cost_price) * 100\n",
    "    text = \"You had a loss of {:.2f} at a loss percent of {:.2f}\"\n",
    "    print(text.format(loss, loss_percent))"
   ]
  },
  {
   "cell_type": "code",
   "execution_count": null,
   "id": "62e1b6c5",
   "metadata": {},
   "outputs": [],
   "source": []
  }
 ],
 "metadata": {
  "kernelspec": {
   "display_name": "Python 3",
   "language": "python",
   "name": "python3"
  },
  "language_info": {
   "codemirror_mode": {
    "name": "ipython",
    "version": 3
   },
   "file_extension": ".py",
   "mimetype": "text/x-python",
   "name": "python",
   "nbconvert_exporter": "python",
   "pygments_lexer": "ipython3",
   "version": "3.8.8"
  }
 },
 "nbformat": 4,
 "nbformat_minor": 5
}
